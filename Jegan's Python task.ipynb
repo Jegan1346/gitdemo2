{
  "nbformat": 4,
  "nbformat_minor": 0,
  "metadata": {
    "colab": {
      "provenance": []
    },
    "kernelspec": {
      "name": "python3",
      "display_name": "Python 3"
    },
    "language_info": {
      "name": "python"
    }
  },
  "cells": [
    {
      "cell_type": "code",
      "execution_count": null,
      "metadata": {
        "id": "qqSoTOnUNKeF"
      },
      "outputs": [],
      "source": [
        "#sum of the series : 1+x+x2+x3+x4+x5+…........xn\n",
        "\n",
        "x=int(input(\"Enter the value for x\"))\n",
        "n=int(input(\"enter the value for n\"))\n",
        "sum=0\n",
        "for i in range(n+1):\n",
        "  sum+=x**i\n",
        "print(sum)\n"
      ]
    },
    {
      "cell_type": "code",
      "source": [
        "#sum of the series : 1-x+x2-x3+x4-x5+x6+........xn\n",
        "x=int(input(\"Enter the value for x\"))\n",
        "n=int(input(\"enter the value for n\"))\n",
        "sum=0\n",
        "for i in range(n+1):\n",
        "  y=x**i\n",
        "  if i%2==0:\n",
        "    sum+=y\n",
        "  else:\n",
        "    sum-=y\n",
        "print(sum)"
      ],
      "metadata": {
        "id": "fFEnjLhvOkY0"
      },
      "execution_count": null,
      "outputs": []
    },
    {
      "cell_type": "code",
      "source": [
        "#sum of the series :  x-(x2/2)+(x3/3)-(x4/4)+(x5/5)-(x6/6)....(xn/n)\n",
        "x=int(input(\"Enter the value for x:\"))\n",
        "n=int(input(\"enter the value for n:\"))\n",
        "sum=x\n",
        "for i in range(2,n+1):\n",
        "  y=(x**i)/i\n",
        "  if i%2==0:\n",
        "    sum-=y\n",
        "  else:\n",
        "    sum+=y\n",
        "print(sum)"
      ],
      "metadata": {
        "colab": {
          "base_uri": "https://localhost:8080/"
        },
        "id": "zsPlpwFtOkVa",
        "outputId": "df9c79a8-d630-4bdf-f267-f1e1eab27a86"
      },
      "execution_count": 20,
      "outputs": [
        {
          "output_type": "stream",
          "name": "stdout",
          "text": [
            "Enter the value for x:2\n",
            "enter the value for n:7\n",
            "12.685714285714285\n"
          ]
        }
      ]
    },
    {
      "cell_type": "code",
      "source": [
        "#sum of the series : x+(x2/2!)-(x3/3!)+(x4/4!)-(x5/5!)+(x6/6!).....(xn/n!)\n",
        "x=int(input(\"Enter the value for x:\"))\n",
        "n=int(input(\"enter the value for n:\"))\n",
        "sum=x\n",
        "def factorial(j):\n",
        "  f=1\n",
        "  for i in range(1,j+1):\n",
        "    f=f*i\n",
        "  return f\n",
        "for i in range(2,n+1):\n",
        "  fact=factorial(i)\n",
        "  y=(x**i)/fact\n",
        "  if i%2==0:\n",
        "    sum+=y\n",
        "  else:\n",
        "    sum-=y\n",
        "print(sum)\n",
        "  \n",
        "\n"
      ],
      "metadata": {
        "colab": {
          "base_uri": "https://localhost:8080/"
        },
        "id": "q4oeAqlLSozc",
        "outputId": "cf24a3f5-312e-4448-8fdb-c7d253cf3696"
      },
      "execution_count": 24,
      "outputs": [
        {
          "output_type": "stream",
          "name": "stdout",
          "text": [
            "Enter the value for x:2\n",
            "enter the value for n:5\n",
            "3.066666666666667\n"
          ]
        }
      ]
    },
    {
      "cell_type": "code",
      "source": [
        "x=int(input(\"sddf\"))\n",
        "f=1\n",
        "for i in range(x+1):\n",
        "  for j in range(1,i+1):\n",
        "    f=f*j\n",
        "print(f)"
      ],
      "metadata": {
        "colab": {
          "base_uri": "https://localhost:8080/"
        },
        "id": "pY2GAyVCcqXy",
        "outputId": "577199da-2ca0-4f29-fbe1-03ca6cef4cd6"
      },
      "execution_count": 23,
      "outputs": [
        {
          "output_type": "stream",
          "name": "stdout",
          "text": [
            "sddf5\n",
            "34560\n"
          ]
        }
      ]
    }
  ]
}