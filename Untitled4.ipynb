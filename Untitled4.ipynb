{
  "nbformat": 4,
  "nbformat_minor": 0,
  "metadata": {
    "colab": {
      "provenance": []
    },
    "kernelspec": {
      "name": "python3",
      "display_name": "Python 3"
    },
    "language_info": {
      "name": "python"
    }
  },
  "cells": [
    {
      "cell_type": "code",
      "execution_count": null,
      "metadata": {
        "colab": {
          "base_uri": "https://localhost:8080/"
        },
        "id": "qqSoTOnUNKeF",
        "outputId": "63a33e6f-6305-4dc9-d3ad-e8919cf4ac10"
      },
      "outputs": [
        {
          "output_type": "stream",
          "name": "stdout",
          "text": [
            "Enter the value for x2\n",
            "enter the value for n5\n",
            "63\n"
          ]
        }
      ],
      "source": [
        "#sum of the series : 1+x+x2+x3+x4+x5+…........xn\n",
        "\n",
        "x=int(input(\"Enter the value for x\"))\n",
        "n=int(input(\"enter the value for n\"))\n",
        "sum=0\n",
        "for i in range(n+1):\n",
        "  sum+=x**i\n",
        "print(sum)\n"
      ]
    },
    {
      "cell_type": "code",
      "source": [
        "#sum of the series : 1-x+x2-x3+x4-x5+x6+........xn\n",
        "x=int(input(\"Enter the value for x\"))\n",
        "n=int(input(\"enter the value for n\"))\n",
        "sum=0\n",
        "for i in range(n+1):\n",
        "  y=x**i\n",
        "  if i%2==0:\n",
        "    sum+=y\n",
        "  else:\n",
        "    sum-=y\n",
        "print(sum)"
      ],
      "metadata": {
        "colab": {
          "base_uri": "https://localhost:8080/"
        },
        "id": "fFEnjLhvOkY0",
        "outputId": "e4f40bbb-e07e-4ef2-9b4e-f72caf180078"
      },
      "execution_count": null,
      "outputs": [
        {
          "output_type": "stream",
          "name": "stdout",
          "text": [
            "Enter the value for x2\n",
            "enter the value for n5\n",
            "-21\n"
          ]
        }
      ]
    },
    {
      "cell_type": "code",
      "source": [
        "#sum of the series :  x-(x2/2)+(x3/3)-(x4/4)+(x5/5)-(x6/6)....(xn/n)\n",
        "x=int(input(\"Enter the value for x:\"))\n",
        "n=int(input(\"enter the value for n:\"))\n",
        "sum=x\n",
        "for i in range(2,n+1):\n",
        "  y=(x**i)/i\n",
        "  if i%2==0:\n",
        "    sum-=y\n",
        "  else:\n",
        "    sum+=y\n",
        "print(sum)"
      ],
      "metadata": {
        "colab": {
          "base_uri": "https://localhost:8080/"
        },
        "id": "zsPlpwFtOkVa",
        "outputId": "1575053a-8802-46b0-dddf-e33bbb25e0d7"
      },
      "execution_count": null,
      "outputs": [
        {
          "output_type": "stream",
          "name": "stdout",
          "text": [
            "Enter the value for x:2\n",
            "enter the value for n:5\n",
            "5.066666666666666\n"
          ]
        }
      ]
    },
    {
      "cell_type": "code",
      "source": [
        "#sum of the series : x+(x2/2!)-(x3/3!)+(x4/4!)-(x5/5!)+(x6/6!).....(xn/n!)\n",
        "x=int(input(\"Enter the value for x:\"))\n",
        "n=int(input(\"enter the value for n:\"))\n",
        "sum=x\n",
        "def factorial(j):\n",
        "  f=1\n",
        "  for i in range(1,j+1):\n",
        "    f=f*i\n",
        "  return f\n",
        "for i in range(2,n+1):\n",
        "  fact=factorial(i)\n",
        "  y=(x**i)/fact\n",
        "  if i%2==0:\n",
        "    sum+=y\n",
        "  else:\n",
        "    sum-=y\n",
        "print(sum)\n",
        "  \n",
        "\n"
      ],
      "metadata": {
        "colab": {
          "base_uri": "https://localhost:8080/"
        },
        "id": "q4oeAqlLSozc",
        "outputId": "e4d8097a-962a-494d-c30e-3a1223dc728c"
      },
      "execution_count": null,
      "outputs": [
        {
          "output_type": "stream",
          "name": "stdout",
          "text": [
            "Enter the value for x:2\n",
            "enter the value for n:5\n",
            "3.066666666666667\n"
          ]
        }
      ]
    }
  ]
}